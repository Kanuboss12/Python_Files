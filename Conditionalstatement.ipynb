{
 "cells": [
  {
   "cell_type": "code",
   "execution_count": null,
   "id": "72367495-546f-4bc3-a1a3-32930777a126",
   "metadata": {},
   "outputs": [],
   "source": [
    "#Question on Conditional Statement"
   ]
  },
  {
   "cell_type": "code",
   "execution_count": 21,
   "id": "78905ad0-7878-4147-8b9f-77839573b432",
   "metadata": {},
   "outputs": [
    {
     "name": "stdout",
     "output_type": "stream",
     "text": [
      "Karuna Rathore\n",
      "MA Economics/DA\n",
      "93546733\n",
      "Bank name: BOB\n",
      "Account:12345667\n",
      "IFSC Code: BOB126776D\n",
      "Bank balance\n",
      "Locker no:446782\n",
      "Thanks\n"
     ]
    }
   ],
   "source": [
    "#Question\n",
    "print(\"Karuna Rathore\")\n",
    "print(\"MA Economics/DA\")\n",
    "print(\"93546733\")\n",
    "print(\"Bank name: BOB\")\n",
    "print(\"Account:12345667\")\n",
    "print(\"IFSC Code: BOB126776D\")\n",
    "print(\"Bank balance\")\n",
    "print(\"Locker no:446782\")\n",
    "print(\"Thanks\")\n",
    "#I dont want to show my bank name and details below it so i set up a Password."
   ]
  },
  {
   "cell_type": "code",
   "execution_count": 3,
   "id": "a3f47785-8361-4109-8be6-838943758bb2",
   "metadata": {},
   "outputs": [
    {
     "name": "stdin",
     "output_type": "stream",
     "text": [
      "Enter your Bank password: 1111\n"
     ]
    },
    {
     "data": {
      "text/plain": [
       "True"
      ]
     },
     "execution_count": 3,
     "metadata": {},
     "output_type": "execute_result"
    }
   ],
   "source": [
    "savedpassword=1111\n",
    "userpassword=int(input(\"Enter your Bank password:\"))\n",
    "savedpassword==userpassword # == means boolean true or false"
   ]
  },
  {
   "cell_type": "code",
   "execution_count": 22,
   "id": "1c2a152e-3eba-4a61-aed6-e4dfcd0f4b1c",
   "metadata": {},
   "outputs": [
    {
     "name": "stdout",
     "output_type": "stream",
     "text": [
      "Karuna Rathore\n",
      "MA Economics/DA\n",
      "93546733\n"
     ]
    },
    {
     "name": "stdin",
     "output_type": "stream",
     "text": [
      "Enter your bank password 1111\n"
     ]
    },
    {
     "name": "stdout",
     "output_type": "stream",
     "text": [
      "Bank name: BOB\n",
      "Account:12345667\n",
      "IFSC Code: BOB126776D\n",
      "Bank balance\n",
      "Locker no:446782\n",
      "Thanks\n"
     ]
    }
   ],
   "source": [
    "# Solution\n",
    "print(\"Karuna Rathore\")\n",
    "print(\"MA Economics/DA\")\n",
    "print(\"93546733\")\n",
    "savedpassword=1111\n",
    "userpassword=int(input(\"Enter your bank password\"))\n",
    "if savedpassword==userpassword:    # Here i used if statement and if and else works when we put: and give space in each print cmnd \n",
    "  print(\"Bank name: BOB\")\n",
    "  print(\"Account:12345667\")\n",
    "  print(\"IFSC Code: BOB126776D\")\n",
    "  print(\"Bank balance\")\n",
    "  print(\"Locker no:446782\")\n",
    "print(\"Thanks\")"
   ]
  },
  {
   "cell_type": "code",
   "execution_count": 8,
   "id": "c9ad8660-b002-4aa5-b1a7-08d6282f3e00",
   "metadata": {},
   "outputs": [],
   "source": [
    "#But if person enter wrong then it will not show anything like wrong so use else statement also."
   ]
  },
  {
   "cell_type": "code",
   "execution_count": 23,
   "id": "8b84363c-f094-4521-9f78-03b23b007fef",
   "metadata": {},
   "outputs": [
    {
     "name": "stdout",
     "output_type": "stream",
     "text": [
      "Karuna Rathore\n",
      "MA Economics/DA\n",
      "93546733\n"
     ]
    },
    {
     "name": "stdin",
     "output_type": "stream",
     "text": [
      "Enter your bank password 122\n"
     ]
    },
    {
     "name": "stdout",
     "output_type": "stream",
     "text": [
      "Sorry wrong password\n",
      "Try again\n",
      "Thanks\n"
     ]
    }
   ],
   "source": [
    "print(\"Karuna Rathore\")\n",
    "print(\"MA Economics/DA\")\n",
    "print(\"93546733\")\n",
    "savedpassword=1111\n",
    "userpassword=int(input(\"Enter your bank password\")) # here if else work in up down manner but generally it works in left right (if then leftside or true and else rightside or false\n",
    "if savedpassword==userpassword:\n",
    "  print(\"Bank name: BOB\")\n",
    "  print(\"Account:12345667\")\n",
    "  print(\"IFSC Code: BOB126776D\")\n",
    "  print(\"Bank balance\")\n",
    "  print(\"Locker no:446782\")\n",
    "else:\n",
    "  print(\"Sorry wrong password\")\n",
    "  print(\"Try again\")\n",
    "  print(\"Thanks\")"
   ]
  },
  {
   "cell_type": "code",
   "execution_count": null,
   "id": "66adf53e-d6f9-45dc-9070-eb8f577829fa",
   "metadata": {},
   "outputs": [],
   "source": [
    "#I WANT TO SHOW ONLY TILL IFSC CODE TO MY CLIENT AND TO ME COMPLETE DETAIL SO ENTER 2222 FOR MY PERSONAL AND TO MY CLIENT ONLY 1111 IS REQUIRED TO BE SHARED AND FOR UNKNOWN PERSON NO PASSWORD NEED TO BE SHARED."
   ]
  },
  {
   "cell_type": "code",
   "execution_count": 26,
   "id": "3707848b-fe9c-4b5e-a2df-727d5a2c3483",
   "metadata": {},
   "outputs": [
    {
     "name": "stdout",
     "output_type": "stream",
     "text": [
      "Karuna Rathore\n",
      "MA Economics/DA\n",
      "93546733\n"
     ]
    },
    {
     "name": "stdin",
     "output_type": "stream",
     "text": [
      "Enter your bank password 1111\n"
     ]
    },
    {
     "name": "stdout",
     "output_type": "stream",
     "text": [
      "Bank name: BOB\n",
      "Account:12345667\n",
      "IFSC Code: BOB126776D\n"
     ]
    },
    {
     "name": "stdin",
     "output_type": "stream",
     "text": [
      "enter pp: 43\n"
     ]
    },
    {
     "name": "stdout",
     "output_type": "stream",
     "text": [
      "Wrong password\n",
      "Keep Visiting\n",
      "Thanks\n"
     ]
    }
   ],
   "source": [
    "print(\"Karuna Rathore\")\n",
    "print(\"MA Economics/DA\")\n",
    "print(\"93546733\")\n",
    "savedpassword=1111\n",
    "userpassword=int(input(\"Enter your bank password\")) \n",
    "if savedpassword==userpassword:\n",
    "  print(\"Bank name: BOB\")\n",
    "  print(\"Account:12345667\")\n",
    "  print(\"IFSC Code: BOB126776D\")\n",
    "  mypp=2222\n",
    "  upp=int(input(\"enter pp:\"))\n",
    "  if mypp==upp:\n",
    "    print(\"Bank balance: 1000\")\n",
    "    print(\"Locker no:446782\")\n",
    "  else:\n",
    "    print(\"Wrong password\")\n",
    "  print(\"Keep Visiting\")    \n",
    "else:\n",
    "  print(\"Sorry wrong password\")\n",
    "  print(\"Try again\")\n",
    "print(\"Thanks\")"
   ]
  },
  {
   "cell_type": "code",
   "execution_count": null,
   "id": "3ffa7ecb-33e3-49e2-a978-525f0bcf9c0b",
   "metadata": {},
   "outputs": [],
   "source": []
  }
 ],
 "metadata": {
  "kernelspec": {
   "display_name": "Python 3 (ipykernel)",
   "language": "python",
   "name": "python3"
  },
  "language_info": {
   "codemirror_mode": {
    "name": "ipython",
    "version": 3
   },
   "file_extension": ".py",
   "mimetype": "text/x-python",
   "name": "python",
   "nbconvert_exporter": "python",
   "pygments_lexer": "ipython3",
   "version": "3.12.5"
  }
 },
 "nbformat": 4,
 "nbformat_minor": 5
}

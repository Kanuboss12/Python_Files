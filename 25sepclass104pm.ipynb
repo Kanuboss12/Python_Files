{
 "cells": [
  {
   "cell_type": "code",
   "execution_count": null,
   "id": "63fb0856-1927-48f7-9593-b3f853fcfdf4",
   "metadata": {},
   "outputs": [],
   "source": [
    "#I WANT TO SHOW ONLY TILL IFSC CODE TO MY CLIENT AND TO ME COMPLETE DETAIL SO ENTER 2222 FOR MY PERSONAL AND TO MY CLIENT ONLY 1111 IS REQUIRED TO BE SHARED AND FOR UNKNOWN PERSON NO PASSWORD NEED TO BE SHARED."
   ]
  },
  {
   "cell_type": "code",
   "execution_count": 7,
   "id": "ba0ee52d-89be-4348-bb34-57f40ae16530",
   "metadata": {},
   "outputs": [
    {
     "name": "stdout",
     "output_type": "stream",
     "text": [
      "Karuna Rathore\n",
      "MA Economics/DA\n",
      "9354510018\n"
     ]
    },
    {
     "name": "stdin",
     "output_type": "stream",
     "text": [
      "Enter your bank password 1111\n"
     ]
    },
    {
     "name": "stdout",
     "output_type": "stream",
     "text": [
      "Bank name: BOB\n",
      "Account:12345667\n",
      "IFSC Code: BOB126776D\n"
     ]
    },
    {
     "name": "stdin",
     "output_type": "stream",
     "text": [
      "enter pp: 2222\n"
     ]
    },
    {
     "name": "stdout",
     "output_type": "stream",
     "text": [
      "Bank balance: 1000\n",
      "Locker no:446782\n",
      "Keep Visiting\n",
      "Thanks\n"
     ]
    }
   ],
   "source": [
    "print(\"Karuna Rathore\")\n",
    "print(\"MA Economics/DA\")\n",
    "print(\"9354510018\")\n",
    "savedpassword=1111\n",
    "userpassword=int(input(\"Enter your bank password\")) # here if else work in up down manner but generally it works in left right (if then leftside or true and else rightside or false\n",
    "if savedpassword==userpassword:\n",
    "  print(\"Bank name: BOB\")\n",
    "  print(\"Account:12345667\")\n",
    "  print(\"IFSC Code: BOB126776D\")\n",
    "  mypp=2222\n",
    "  upp=int(input(\"enter pp:\"))\n",
    "  if mypp==upp:\n",
    "    print(\"Bank balance: 1000\")\n",
    "    print(\"Locker no:446782\")\n",
    "  else:\n",
    "    print(\"Wrong password\")\n",
    "  print(\"Keep Visiting\")    \n",
    "else:\n",
    "  print(\"Sorry wrong password\")\n",
    "  print(\"Try again\")\n",
    "print(\"Thanks\")"
   ]
  },
  {
   "cell_type": "code",
   "execution_count": 31,
   "id": "137f2fb6-eb58-4d36-a3c4-474a1443f32b",
   "metadata": {},
   "outputs": [],
   "source": [
    "#student software to show name when first letter is entered"
   ]
  },
  {
   "cell_type": "code",
   "execution_count": 11,
   "id": "fac28c5f-296a-49f9-9252-49d8cd20cd45",
   "metadata": {},
   "outputs": [
    {
     "name": "stdout",
     "output_type": "stream",
     "text": [
      "welcome\n"
     ]
    },
    {
     "name": "stdin",
     "output_type": "stream",
     "text": [
      "Enter student id: w\n"
     ]
    },
    {
     "name": "stdout",
     "output_type": "stream",
     "text": [
      "I am prince\n",
      "my roll no is 2\n",
      "Thanks\n"
     ]
    }
   ],
   "source": [
    "print(\"welcome\")\n",
    "stuid=input(\"Enter student id:\")  #int not required as it is in text only\n",
    "if stuid==\"a\":\n",
    "    print(\"I am aman\")\n",
    "    print(\"My roll no is 1\")\n",
    "else:\n",
    "    print(\"I am prince\")\n",
    "    print(\"my roll no is 2\")\n",
    "print(\"Thanks\")    "
   ]
  },
  {
   "cell_type": "code",
   "execution_count": 12,
   "id": "fd078879-67b8-46ea-8b7b-f1889a40642f",
   "metadata": {},
   "outputs": [],
   "source": [
    "# here if we enter any alphabet other then a then it shows price data which should not be the case it should show only with p.So"
   ]
  },
  {
   "cell_type": "code",
   "execution_count": 12,
   "id": "c109e2b8-dd10-4c1a-b368-33fb00790e66",
   "metadata": {},
   "outputs": [],
   "source": [
    "#So we use elif if is part of else here."
   ]
  },
  {
   "cell_type": "code",
   "execution_count": 15,
   "id": "8df4ab07-dd17-444c-a706-cf325cf86079",
   "metadata": {},
   "outputs": [
    {
     "name": "stdout",
     "output_type": "stream",
     "text": [
      "welcome\n"
     ]
    },
    {
     "name": "stdin",
     "output_type": "stream",
     "text": [
      "Enter student id: w\n"
     ]
    },
    {
     "name": "stdout",
     "output_type": "stream",
     "text": [
      "Thanks\n"
     ]
    }
   ],
   "source": [
    "print(\"welcome\")\n",
    "stuid=input(\"Enter student id:\")\n",
    "if stuid==\"a\":\n",
    "    print(\"I am aman\")\n",
    "    print(\"My roll no is 1\")\n",
    "elif stuid==\"p\":\n",
    "    print(\"I am prince\")\n",
    "    print(\"my roll no is 2\")\n",
    "print(\"Thanks\")"
   ]
  },
  {
   "cell_type": "code",
   "execution_count": 19,
   "id": "8ba180c2-2238-4df9-a83a-bf51f5599c8b",
   "metadata": {},
   "outputs": [
    {
     "name": "stdout",
     "output_type": "stream",
     "text": [
      "welcome\n"
     ]
    },
    {
     "name": "stdin",
     "output_type": "stream",
     "text": [
      "Enter student id: d\n"
     ]
    },
    {
     "name": "stdout",
     "output_type": "stream",
     "text": [
      "Thanks\n"
     ]
    }
   ],
   "source": [
    "print(\"welcome\")\n",
    "stuid=input(\"Enter student id:\")\n",
    "if stuid==\"a\":\n",
    "    print(\"I am aman\")\n",
    "    print(\"My roll no is 1\")\n",
    "elif stuid==\"p\":\n",
    "    print(\"I am prince\")\n",
    "    print(\"my roll no is 2\")\n",
    "elif stuid==\"y\":\n",
    "    print(\"I am yash\") \n",
    "    print(\"my roll no is 3\")\n",
    "print(\"Thanks\")"
   ]
  },
  {
   "cell_type": "code",
   "execution_count": null,
   "id": "65c6baf9-871e-4b4f-afa8-2f489180cbcb",
   "metadata": {},
   "outputs": [],
   "source": [
    "#I want to show wrong student id if any other alphabet is entered so use else.here else is a part of first if stuid==\"a\" one"
   ]
  },
  {
   "cell_type": "code",
   "execution_count": 28,
   "id": "059d3115-bba0-4a5b-a07a-b2727abf3ddb",
   "metadata": {},
   "outputs": [
    {
     "name": "stdout",
     "output_type": "stream",
     "text": [
      "welcome\n"
     ]
    },
    {
     "name": "stdin",
     "output_type": "stream",
     "text": [
      "Enter student id: g\n"
     ]
    },
    {
     "name": "stdout",
     "output_type": "stream",
     "text": [
      "wrong student id\n",
      "Thanks\n"
     ]
    }
   ],
   "source": [
    "print(\"welcome\")\n",
    "stuid=input(\"Enter student id:\")\n",
    "if stuid==\"a\":\n",
    "    print(\"I am aman\")\n",
    "    print(\"My roll no is 1\")\n",
    "elif stuid==\"p\":\n",
    "    print(\"I am prince\")\n",
    "    print(\"my roll no is 2\")\n",
    "elif stuid==\"y\":\n",
    "    print(\"I am yash\") \n",
    "    print(\"my roll no is 3\")\n",
    "else:\n",
    "    print(\"wrong student id\")\n",
    "print(\"Thanks\")"
   ]
  },
  {
   "cell_type": "code",
   "execution_count": 22,
   "id": "55810b8c-794e-4bf8-8881-8b48bb1cf59b",
   "metadata": {},
   "outputs": [],
   "source": [
    "# difference between if and elif"
   ]
  },
  {
   "cell_type": "code",
   "execution_count": 27,
   "id": "1ddb84f7-e77c-47ab-a744-8c51bef6a32d",
   "metadata": {},
   "outputs": [
    {
     "name": "stdout",
     "output_type": "stream",
     "text": [
      "welcome\n"
     ]
    },
    {
     "name": "stdin",
     "output_type": "stream",
     "text": [
      "Enter student id: p\n"
     ]
    },
    {
     "name": "stdout",
     "output_type": "stream",
     "text": [
      "I am prince\n",
      "my roll no is 2\n",
      "wrong student id\n",
      "Thanks\n"
     ]
    }
   ],
   "source": [
    "print(\"welcome\")\n",
    "stuid=input(\"Enter student id:\")\n",
    "if stuid==\"a\":\n",
    "    print(\"I am aman\")\n",
    "    print(\"My roll no is 1\")\n",
    "if stuid==\"p\":\n",
    "    print(\"I am prince\")\n",
    "    print(\"my roll no is 2\")\n",
    "if stuid==\"y\":\n",
    "    print(\"I am yash\") \n",
    "    print(\"my roll no is 3\")\n",
    "else:\n",
    "    print(\"wrong student id\")\n",
    "print(\"Thanks\")"
   ]
  },
  {
   "cell_type": "code",
   "execution_count": null,
   "id": "afabc720-61d4-4d16-bbdd-8a7a20063741",
   "metadata": {},
   "outputs": [],
   "source": [
    "#In above we have 3 different conditions of if. Here else is a part of last if that is of yash it means it will print \"wrong student id\" for all alphabet other then y even for a and p which is not to be the case."
   ]
  },
  {
   "cell_type": "code",
   "execution_count": 30,
   "id": "42711697-f5dd-425b-902d-9adffb327dd8",
   "metadata": {},
   "outputs": [],
   "source": [
    "#elif is part of else condition"
   ]
  },
  {
   "cell_type": "code",
   "execution_count": null,
   "id": "448bd4fb-7835-4ceb-9527-9156310f32e3",
   "metadata": {},
   "outputs": [],
   "source": []
  }
 ],
 "metadata": {
  "kernelspec": {
   "display_name": "Python 3 (ipykernel)",
   "language": "python",
   "name": "python3"
  },
  "language_info": {
   "codemirror_mode": {
    "name": "ipython",
    "version": 3
   },
   "file_extension": ".py",
   "mimetype": "text/x-python",
   "name": "python",
   "nbconvert_exporter": "python",
   "pygments_lexer": "ipython3",
   "version": "3.12.5"
  }
 },
 "nbformat": 4,
 "nbformat_minor": 5
}

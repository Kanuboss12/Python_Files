{
 "cells": [
  {
   "cell_type": "code",
   "execution_count": 13,
   "id": "38429ee9-c0f6-452b-bb69-b844ade33f58",
   "metadata": {},
   "outputs": [
    {
     "name": "stdin",
     "output_type": "stream",
     "text": [
      "Enter value for n1: 4\n",
      "Enter value for n2: 3\n"
     ]
    },
    {
     "name": "stdout",
     "output_type": "stream",
     "text": [
      "n2 smallest\n"
     ]
    }
   ],
   "source": [
    "n1=int(input(\"Enter value for n1:\"))\n",
    "n2=int(input(\"Enter value for n2:\"))\n",
    "print(\"n1 smallest\") if n1<n2 else print(\"n2 smallest\")             "
   ]
  },
  {
   "cell_type": "code",
   "execution_count": 14,
   "id": "e31d736d-d389-402b-969e-be89cb06f0d1",
   "metadata": {},
   "outputs": [
    {
     "name": "stdin",
     "output_type": "stream",
     "text": [
      "Enter value for n1: 4\n",
      "Enter value for n2: 3\n"
     ]
    },
    {
     "name": "stdout",
     "output_type": "stream",
     "text": [
      "n1 smallest\n"
     ]
    }
   ],
   "source": [
    "n1=int(input(\"Enter value for n1:\"))\n",
    "n2=int(input(\"Enter value for n2:\"))\n",
    "print(\"n1 smallest\") if not(n1<n2) else print(\"n2 smallest\")       "
   ]
  },
  {
   "cell_type": "code",
   "execution_count": 16,
   "id": "8820d35b-d314-4a74-b463-1a137aaf63e8",
   "metadata": {},
   "outputs": [
    {
     "name": "stdin",
     "output_type": "stream",
     "text": [
      "Enter value for n1: -9\n"
     ]
    },
    {
     "name": "stdout",
     "output_type": "stream",
     "text": [
      "my value is 9\n"
     ]
    }
   ],
   "source": [
    "n1=int(input(\"Enter value for n1:\"))\n",
    "print(\"my value is\",n1) if n1>0 else print(\"my value is\",n1*-1)"
   ]
  },
  {
   "cell_type": "code",
   "execution_count": 21,
   "id": "6d4540be-40d0-4f58-bd70-1d968bc1e09a",
   "metadata": {},
   "outputs": [
    {
     "name": "stdin",
     "output_type": "stream",
     "text": [
      "Enter value for n1: -9\n"
     ]
    },
    {
     "name": "stdout",
     "output_type": "stream",
     "text": [
      "my value is 9\n"
     ]
    }
   ],
   "source": [
    "n1=int(input(\"Enter value for n1:\"))\n",
    "print(\"my value is\",n1) if not(n1<0) else print(\"my value is\",n1*-1)"
   ]
  },
  {
   "cell_type": "code",
   "execution_count": 10,
   "id": "799e39a9-bd51-467f-8f20-102bf9d87bd6",
   "metadata": {},
   "outputs": [],
   "source": [
    "#My first python project on conditional statement"
   ]
  },
  {
   "cell_type": "code",
   "execution_count": 4,
   "id": "2b2752b7-c238-41bf-8680-32766c93e3b9",
   "metadata": {},
   "outputs": [
    {
     "name": "stdout",
     "output_type": "stream",
     "text": [
      "Karuna Rathore\n",
      "MA Economics/DA\n",
      "9354510018\n",
      "Bank name: BOB\n",
      "Account:12345667\n",
      "IFSC Code: BOB126776D\n",
      "Bank balance\n",
      "Locker no:446782\n",
      "Thanks\n"
     ]
    }
   ],
   "source": [
    "#Question\n",
    "print(\"Karuna Rathore\")\n",
    "print(\"MA Economics/DA\")\n",
    "print(\"9354510018\")\n",
    "print(\"Bank name: BOB\")\n",
    "print(\"Account:12345667\")\n",
    "print(\"IFSC Code: BOB126776D\")\n",
    "print(\"Bank balance\")\n",
    "print(\"Locker no:446782\")\n",
    "print(\"Thanks\")\n",
    "#I dont want to show my bank name and other details below it"
   ]
  },
  {
   "cell_type": "code",
   "execution_count": 9,
   "id": "4479f994-2271-4fed-aba3-86c32125c8a5",
   "metadata": {},
   "outputs": [
    {
     "name": "stdin",
     "output_type": "stream",
     "text": [
      "Enter your Bank password: 1111\n"
     ]
    },
    {
     "data": {
      "text/plain": [
       "True"
      ]
     },
     "execution_count": 9,
     "metadata": {},
     "output_type": "execute_result"
    }
   ],
   "source": [
    "savedpassword=1111\n",
    "userpassword=int(input(\"Enter your Bank password:\"))\n",
    "savedpassword==userpassword # == means boolean true or false"
   ]
  },
  {
   "cell_type": "code",
   "execution_count": 24,
   "id": "6ad80a8c-98aa-4f07-846b-7852b2eac42a",
   "metadata": {},
   "outputs": [
    {
     "name": "stdout",
     "output_type": "stream",
     "text": [
      "Karuna Rathore\n",
      "MA Economics/DA\n",
      "9354510018\n"
     ]
    },
    {
     "name": "stdin",
     "output_type": "stream",
     "text": [
      "Enter your bank password 1111\n"
     ]
    },
    {
     "name": "stdout",
     "output_type": "stream",
     "text": [
      "Bank name: BOB\n",
      "Account:12345667\n",
      "IFSC Code: BOB126776D\n",
      "Bank balance\n",
      "Locker no:446782\n",
      "Thanks\n"
     ]
    }
   ],
   "source": [
    "#Solution\n",
    "print(\"Karuna Rathore\")\n",
    "print(\"MA Economics/DA\")\n",
    "print(\"9354510018\")\n",
    "savedpassword=1111\n",
    "userpassword=int(input(\"Enter your bank password\"))\n",
    "if savedpassword==userpassword:    #if and else works when we put: and give space in each print cmnd \n",
    "  print(\"Bank name: BOB\")\n",
    "  print(\"Account:12345667\")\n",
    "  print(\"IFSC Code: BOB126776D\")\n",
    "  print(\"Bank balance\")\n",
    "  print(\"Locker no:446782\")\n",
    "print(\"Thanks\")"
   ]
  },
  {
   "cell_type": "code",
   "execution_count": 7,
   "id": "b0c371c5-b0ed-4c5e-a069-37a24858065c",
   "metadata": {},
   "outputs": [],
   "source": [
    "#But if person enter wrong then it will not show anything like wrong so use else statement also and in above we can see if can work"
   ]
  },
  {
   "cell_type": "code",
   "execution_count": 10,
   "id": "5cde2b3e-85a2-4d4a-93cb-cf8aad3c06df",
   "metadata": {},
   "outputs": [],
   "source": [
    "#so use else case also"
   ]
  },
  {
   "cell_type": "code",
   "execution_count": 29,
   "id": "c577122c-5fba-46c9-9cb0-31cc3a140e54",
   "metadata": {},
   "outputs": [
    {
     "name": "stdout",
     "output_type": "stream",
     "text": [
      "Karuna Rathore\n",
      "MA Economics/DA\n",
      "9354510018\n"
     ]
    },
    {
     "name": "stdin",
     "output_type": "stream",
     "text": [
      "Enter your bank password 32\n"
     ]
    },
    {
     "name": "stdout",
     "output_type": "stream",
     "text": [
      "Sorry wrong password\n",
      "Try again\n",
      "Thanks\n"
     ]
    }
   ],
   "source": [
    "print(\"Karuna Rathore\")\n",
    "print(\"MA Economics/DA\")\n",
    "print(\"9354510018\")\n",
    "savedpassword=1111\n",
    "userpassword=int(input(\"Enter your bank password\")) # here if else work in up down manner but generally it works in left right (if then leftside or true and else rightside or false\n",
    "if savedpassword==userpassword:\n",
    "  print(\"Bank name: BOB\")\n",
    "  print(\"Account:12345667\")\n",
    "  print(\"IFSC Code: BOB126776D\")\n",
    "  print(\"Bank balance\")\n",
    "  print(\"Locker no:446782\")\n",
    "else:\n",
    "  print(\"Sorry wrong password\")\n",
    "  print(\"Try again\")\n",
    "  print(\"Thanks\")"
   ]
  },
  {
   "cell_type": "code",
   "execution_count": 1,
   "id": "60656e0e-7666-4e10-8599-78857e5da026",
   "metadata": {},
   "outputs": [],
   "source": [
    "#I WANT TO SHOW ONLY TILL IFSC CODE TO MY CLIENT AND TO ME COMPLETE DETAIL SO ENTER 2222 FOR MY PERSONAL AND TO MY CLIENT ONLY 1111 IS REQUIRED TO BE SHARED AND FOR UNKNOWN PERSON NO PASSWORD NEED TO BE SHARED."
   ]
  },
  {
   "cell_type": "code",
   "execution_count": 3,
   "id": "8cba5cc1-6d39-4248-a688-aaef4f30f893",
   "metadata": {},
   "outputs": [
    {
     "name": "stdout",
     "output_type": "stream",
     "text": [
      "Karuna Rathore\n",
      "MA Economics/DA\n",
      "9354510018\n"
     ]
    },
    {
     "name": "stdin",
     "output_type": "stream",
     "text": [
      "Enter your bank password 1111\n"
     ]
    },
    {
     "name": "stdout",
     "output_type": "stream",
     "text": [
      "Bank name: BOB\n",
      "Account:12345667\n",
      "IFSC Code: BOB126776D\n"
     ]
    },
    {
     "name": "stdin",
     "output_type": "stream",
     "text": [
      "enter pp: 2222\n"
     ]
    },
    {
     "name": "stdout",
     "output_type": "stream",
     "text": [
      "Bank balance: 1000\n",
      "Locker no:446782\n",
      "Keep Visiting\n",
      "Thanks\n"
     ]
    }
   ],
   "source": [
    "print(\"Karuna Rathore\")\n",
    "print(\"MA Economics/DA\")\n",
    "print(\"9354510018\")\n",
    "savedpassword=1111\n",
    "userpassword=int(input(\"Enter your bank password\")) # here if else work in up down manner but generally it works in left right (if then leftside or true and else rightside or false\n",
    "if savedpassword==userpassword:\n",
    "  print(\"Bank name: BOB\")\n",
    "  print(\"Account:12345667\")\n",
    "  print(\"IFSC Code: BOB126776D\")\n",
    "  mypp=2222\n",
    "  upp=int(input(\"enter pp:\"))\n",
    "  if mypp==upp:\n",
    "    print(\"Bank balance: 1000\")\n",
    "    print(\"Locker no:446782\")\n",
    "  else:\n",
    "    print(\"Wrong password\")\n",
    "  print(\"Keep Visiting\")    \n",
    "else:\n",
    "  print(\"Sorry wrong password\")\n",
    "  print(\"Try again\")\n",
    "print(\"Thanks\")"
   ]
  },
  {
   "cell_type": "code",
   "execution_count": null,
   "id": "964d1afe-624b-42de-a570-516eb1fbe0e7",
   "metadata": {},
   "outputs": [],
   "source": []
  }
 ],
 "metadata": {
  "kernelspec": {
   "display_name": "Python 3 (ipykernel)",
   "language": "python",
   "name": "python3"
  },
  "language_info": {
   "codemirror_mode": {
    "name": "ipython",
    "version": 3
   },
   "file_extension": ".py",
   "mimetype": "text/x-python",
   "name": "python",
   "nbconvert_exporter": "python",
   "pygments_lexer": "ipython3",
   "version": "3.12.5"
  }
 },
 "nbformat": 4,
 "nbformat_minor": 5
}
